{
 "cells": [
  {
   "cell_type": "markdown",
   "metadata": {},
   "source": [
    "### THULAC（清华大学中文词法分析工具）"
   ]
  },
  {
   "cell_type": "code",
   "execution_count": 11,
   "metadata": {},
   "outputs": [
    {
     "name": "stdout",
     "output_type": "stream",
     "text": [
      "Model loaded succeed\n",
      "[['女士', 'n'], ['优先', 'v'], ['绅士', 'n'], ['风度', 'n'], ['这些', 'r'], ['是', 'v'], ['从', 'p'], ['西方', 's'], ['传进', 'v'], ['来', 'v'], ['的', 'u'], ['东西', 'n'], ['，', 'w'], ['男女平等', 'id'], ['才', 'd'], ['是', 'v'], ['国策', 'n'], ['，', 'w'], ['西方', 's'], ['紫苯', 'n'], ['滋养', 'v'], ['了', 'u'], ['女拳', 'n']]\n"
     ]
    }
   ],
   "source": [
    "import thulac\n",
    "thu = thulac.thulac()\n",
    "text = \"女士优先绅士风度这些是从西方传进来的东西，男女平等才是国策，西方紫苯滋养了女拳\"\n",
    "print(thu.cut(text))"
   ]
  },
  {
   "cell_type": "markdown",
   "metadata": {},
   "source": [
    "### jieba分词\n",
    "\n",
    "- 名词类\n",
    "\n",
    "- n: 普通名词（如\"风度\"）\n",
    "- nr: 人名（如\"女士\"）\n",
    "- ns: 地名（如\"东西\"）\n",
    "- nz: 其他专有名词（如\"紫苯\"）\n",
    "- l: 习用语（如\"男女平等\"）\n",
    "- 动词类\n",
    "\n",
    "- v: 普通动词（如\"是\"、\"滋养\"）\n",
    "- vd: 动副词\n",
    "- vn: 名动词\n",
    "- 形容词类\n",
    "\n",
    "- a: 形容词\n",
    "- ad: 副形词\n",
    "- an: 名形词\n",
    "- 代词类\n",
    "\n",
    "- r: 代词（如\"这些\"）\n",
    "- 副词类\n",
    "\n",
    "- d: 副词（如\"才\"）\n",
    "- 助词类\n",
    "\n",
    "- uj: 结构助词（如\"的\"）\n",
    "- ul: 时态助词（如\"了\"）\n",
    "- 介词类\n",
    "\n",
    "- p: 介词\n",
    "- 连词类\n",
    "\n",
    "- c: 连词\n",
    "- 叹词类\n",
    "\n",
    "- e: 叹词\n",
    "- 标点符号类\n",
    "\n",
    "- x: 标点符号（如\"，\"）\n",
    "- 其他\n",
    "\n",
    "- s: 处所词（如\"西方\"）\n",
    "- t: 时间词\n",
    "- m: 数词\n",
    "- q: 量词\n",
    "- o: 拟声词\n",
    "- h: 前缀\n",
    "- k: 后缀\n",
    "- i: 成语\n",
    "- j: 简称略语"
   ]
  },
  {
   "cell_type": "code",
   "execution_count": 2,
   "metadata": {},
   "outputs": [
    {
     "name": "stdout",
     "output_type": "stream",
     "text": [
      "女士优先(nr) 绅士风度(n) 这些(r) 是从(v) 西方(s) 传(n) 进来(v) 的(uj) 东西(ns) ，(x) 男女平等(l) 才(d) 是(v) 国策(n) ，(x) 西方(s) 紫苯(nz) 滋养(v) 了(ul) 女拳(n) "
     ]
    }
   ],
   "source": [
    "import jieba.posseg as pseg\n",
    "\n",
    "text = \"女士优先绅士风度这些是从西方传进来的东西，男女平等才是国策，西方紫苯滋养了女拳\"\n",
    "words = pseg.cut(text)\n",
    "for word, flag in words:\n",
    "    print(f\"{word}({flag})\", end=\" \")"
   ]
  },
  {
   "cell_type": "markdown",
   "metadata": {},
   "source": [
    "### HanLP分词器"
   ]
  },
  {
   "cell_type": "code",
   "execution_count": 4,
   "metadata": {},
   "outputs": [
    {
     "data": {
      "text/plain": [
       "{'CTB5_BIAFFINE_DEP_ZH': 'https://file.hankcs.com/hanlp/dep/biaffine_ctb5_20191229_025833.zip',\n",
       " 'CTB7_BIAFFINE_DEP_ZH': 'https://file.hankcs.com/hanlp/dep/biaffine_ctb7_20200109_022431.zip',\n",
       " 'CTB9_DEP_ELECTRA_SMALL': 'https://file.hankcs.com/hanlp/dep/ctb9_dep_electra_small_20220216_100306.zip',\n",
       " 'PMT1_DEP_ELECTRA_SMALL': 'https://file.hankcs.com/hanlp/dep/pmt_dep_electra_small_20220218_134518.zip',\n",
       " 'CTB9_UDC_ELECTRA_SMALL': 'https://file.hankcs.com/hanlp/dep/udc_dep_electra_small_20220218_095452.zip',\n",
       " 'PTB_BIAFFINE_DEP_EN': 'https://file.hankcs.com/hanlp/dep/ptb_dep_biaffine_20200101_174624.zip'}"
      ]
     },
     "execution_count": 4,
     "metadata": {},
     "output_type": "execute_result"
    }
   ],
   "source": [
    "import hanlp\n",
    "hanlp.pretrained.tok.ALL  # 查看所有可用分词模型\n",
    "hanlp.pretrained.dep.ALL  # 查看所有可用依存分析模型"
   ]
  },
  {
   "cell_type": "code",
   "execution_count": 1,
   "metadata": {},
   "outputs": [
    {
     "name": "stdout",
     "output_type": "stream",
     "text": [
      "Looking in indexes: https://mirrors.ustc.edu.cn/pypi/web/simple\n",
      "Requirement already satisfied: hanlp_restful in c:\\programdata\\anaconda3\\lib\\site-packages (0.0.24)\n",
      "Requirement already satisfied: hanlp-common in c:\\programdata\\anaconda3\\lib\\site-packages (from hanlp_restful) (0.0.23)\n",
      "Requirement already satisfied: phrasetree>=0.0.9 in c:\\programdata\\anaconda3\\lib\\site-packages (from hanlp-common->hanlp_restful) (0.0.9)\n"
     ]
    },
    {
     "name": "stderr",
     "output_type": "stream",
     "text": [
      "WARNING: Ignoring invalid distribution -cikit-learn (c:\\programdata\\anaconda3\\lib\\site-packages)\n",
      "WARNING: Ignoring invalid distribution -okenizers (c:\\programdata\\anaconda3\\lib\\site-packages)\n",
      "WARNING: Ignoring invalid distribution -qdm (c:\\programdata\\anaconda3\\lib\\site-packages)\n",
      "WARNING: Ignoring invalid distribution -cikit-learn (c:\\programdata\\anaconda3\\lib\\site-packages)\n",
      "WARNING: Ignoring invalid distribution -okenizers (c:\\programdata\\anaconda3\\lib\\site-packages)\n",
      "WARNING: Ignoring invalid distribution -qdm (c:\\programdata\\anaconda3\\lib\\site-packages)\n"
     ]
    }
   ],
   "source": [
    "!pip install hanlp_restful"
   ]
  },
  {
   "cell_type": "markdown",
   "metadata": {},
   "source": [
    "1. 分词结果(tok/fine & tok/coarse) ：\n",
    "- fine是细粒度分词，coarse是粗粒度分词\n",
    "- 应用：可作为文本预处理的基础步骤\n",
    "\n",
    "2.  词性标注(pos/ctb/pku/863) ：\n",
    "- 不同标准下的词性标记（名词/动词等）\n",
    "- 应用：识别名词短语（潜在评论对象）和动词短语（潜在论点）\n",
    "\n",
    "3. 命名实体识别(ner/...) ：\n",
    "- 当前输出为空，可能未识别出命名实体\n",
    "- 应用：可识别特定人物/地点等敏感实体\n",
    "\n",
    "4. 语义角色标注(srl) ：\n",
    "- 标注了谓词-论元结构，如\"女士(ARG0) 优先(PRED)\"\n",
    "- 应用：可提取\"谁对谁做了什么\"的完整语义结构\n",
    "\n",
    "5. 依存分析(dep) ：\n",
    "- 显示词语间的语法关系，如nsubj(主语)、dobj(宾语)\n",
    "- 应用：识别句子的主谓宾核心结构\n",
    "\n",
    "6. 语义依存分析(sdp) ：\n",
    "- 更深层的语义关系，如Exp(体验者)、Pat(受事)\n",
    "- 应用：理解攻击行为的施受关系\n",
    "\n",
    "7. 短语结构树(con) ：\n",
    "- 完整的句法树结构\n",
    "- 应用：分析复杂句子的层次关系"
   ]
  },
  {
   "cell_type": "code",
   "execution_count": null,
   "metadata": {},
   "outputs": [
    {
     "name": "stdout",
     "output_type": "stream",
     "text": [
      "{\n",
      "  \"tok/fine\": [\n",
      "    [\"女士\", \"优先\", \"绅士\", \"风度\", \"这些\", \"是\", \"从\", \"西方\", \"传\", \"进来\", \"的\", \"东西\", \"，\", \"男女\", \"平等\", \"才\", \"是\", \"国策\", \"，\", \"西方\", \"紫苯\", \"滋养\", \"了\", \"女拳\"]\n",
      "  ],\n",
      "  \"tok/coarse\": [\n",
      "    [\"女士优先\", \"绅士风度\", \"这些\", \"是\", \"从\", \"西方\", \"传\", \"进来\", \"的\", \"东西\", \"，\", \"男女平等\", \"才是\", \"国策\", \"，\", \"西方\", \"紫苯\", \"滋养\", \"了\", \"女拳\"]\n",
      "  ],\n",
      "  \"pos/ctb\": [\n",
      "    [\"NN\", \"VV\", \"NN\", \"NN\", \"PN\", \"VC\", \"P\", \"NN\", \"VV\", \"VV\", \"DEC\", \"NN\", \"PU\", \"NN\", \"VV\", \"AD\", \"VC\", \"NN\", \"PU\", \"NN\", \"NN\", \"VV\", \"AS\", \"NN\"]\n",
      "  ],\n",
      "  \"pos/pku\": [\n",
      "    [\"n\", \"v\", \"n\", \"n\", \"r\", \"v\", \"p\", \"s\", \"v\", \"v\", \"u\", \"n\", \"w\", \"n\", \"a\", \"d\", \"v\", \"n\", \"w\", \"s\", \"n\", \"v\", \"u\", \"n\"]\n",
      "  ],\n",
      "  \"pos/863\": [\n",
      "    [\"n\", \"v\", \"n\", \"n\", \"r\", \"v\", \"p\", \"ns\", \"v\", \"v\", \"u\", \"n\", \"w\", \"n\", \"a\", \"d\", \"vl\", \"n\", \"w\", \"ns\", \"n\", \"v\", \"u\", \"n\"]\n",
      "  ],\n",
      "  \"ner/msra\": [\n",
      "    []\n",
      "  ],\n",
      "  \"ner/pku\": [\n",
      "    []\n",
      "  ],\n",
      "  \"ner/ontonotes\": [\n",
      "    []\n",
      "  ],\n",
      "  \"srl\": [\n",
      "    [[[\"女士\", \"ARG0\", 0, 1], [\"优先\", \"PRED\", 1, 2]], [[\"这些\", \"ARG0\", 4, 5], [\"是\", \"PRED\", 5, 6], [\"从西方传进来的东西\", \"ARG1\", 6, 12]], [[\"从西方\", \"ARG2\", 6, 8], [\"传\", \"PRED\", 8, 9], [\"东西\", \"ARG1\", 11, 12]], [[\"男女\", \"ARG0\", 13, 14], [\"平等\", \"PRED\", 14, 15]], [[\"男女平等\", \"ARG0\", 13, 15], [\"才\", \"ARGM-ADV\", 15, 16], [\"是\", \"PRED\", 16, 17], [\"国策\", \"ARG1\", 17, 18]], [[\"西方紫苯\", \"ARG0\", 19, 21], [\"滋养\", \"PRED\", 21, 22], [\"女拳\", \"ARG1\", 23, 24]]]\n",
      "  ],\n",
      "  \"dep\": [\n",
      "    [[2, \"nsubj\"], [0, \"root\"], [4, \"compound:nn\"], [2, \"dep\"], [12, \"nsubj\"], [12, \"cop\"], [8, \"case\"], [9, \"nmod:prep\"], [12, \"acl\"], [9, \"advmod:rcomp\"], [9, \"mark\"], [2, \"conj\"], [2, \"punct\"], [15, \"nsubj\"], [18, \"nsubj\"], [18, \"advmod\"], [18, \"cop\"], [2, \"conj\"], [2, \"punct\"], [21, \"compound:nn\"], [22, \"nsubj\"], [2, \"conj\"], [22, \"aux:asp\"], [22, \"dobj\"]]\n",
      "  ],\n",
      "  \"sdp\": [\n",
      "    [[[2, \"Exp\"]], [[0, \"Root\"]], [[4, \"Desc\"]], [[2, \"eCoo\"]], [[6, \"Exp\"]], [[9, \"mMod\"]], [[8, \"mPrep\"]], [[9, \"Orig\"]], [[12, \"rCont\"]], [[9, \"mDir\"]], [[9, \"mAux\"]], [[6, \"Clas\"]], [[6, \"mPunc\"]], [[15, \"Exp\"]], [[17, \"dExp\"]], [[17, \"mMod\"]], [[6, \"eSucc\"]], [[17, \"Clas\"]], [[17, \"mPunc\"]], [[21, \"Loc\"]], [[22, \"Exp\"]], [[6, \"eSucc\"], [17, \"eSucc\"]], [[22, \"mTime\"]], [[22, \"Pat\"]]]\n",
      "  ],\n",
      "  \"con\": [\n",
      "    [\"TOP\", [[\"IP\", [[\"IP\", [[\"IP\", [[\"NP\", [[\"NN\", [\"女士\"]]]], [\"VP\", [[\"VV\", [\"优先\"]]]]]], [\"VP\", [[\"NP\", [[\"NN\", [\"绅士\"]], [\"NN\", [\"风度\"]]]]]]]], [\"IP\", [[\"NP\", [[\"PN\", [\"这些\"]]]], [\"VP\", [[\"VC\", [\"是\"]], [\"NP\", [[\"CP\", [[\"CP\", [[\"IP\", [[\"VP\", [[\"PP\", [[\"P\", [\"从\"]], [\"NP\", [[\"NN\", [\"西方\"]]]]]], [\"VP\", [[\"VRD\", [[\"VV\", [\"传\"]], [\"VV\", [\"进来\"]]]]]]]]]], [\"DEC\", [\"的\"]]]]]], [\"NP\", [[\"NN\", [\"东西\"]]]]]]]]]], [\"PU\", [\"，\"]], [\"IP\", [[\"IP\", [[\"NP\", [[\"NN\", [\"男女\"]]]], [\"VP\", [[\"VV\", [\"平等\"]]]]]], [\"VP\", [[\"ADVP\", [[\"AD\", [\"才\"]]]], [\"VP\", [[\"VC\", [\"是\"]], [\"NP\", [[\"NN\", [\"国策\"]]]]]]]]]], [\"PU\", [\"，\"]], [\"IP\", [[\"NP\", [[\"NN\", [\"西方\"]], [\"NN\", [\"紫苯\"]]]], [\"VP\", [[\"VV\", [\"滋养\"]], [\"AS\", [\"了\"]], [\"NP\", [[\"NN\", [\"女拳\"]]]]]]]]]]]]\n",
      "  ]\n",
      "}\n"
     ]
    }
   ],
   "source": [
    "from hanlp_restful import HanLPClient\n",
    "HanLP = HanLPClient('https://www.hanlp.com/api', auth='your_auth')  # auth需要申请\n",
    "doc = HanLP.parse('女士优先绅士风度这些是从西方传进来的东西，男女平等才是国策，西方紫苯滋养了女拳')\n",
    "print(doc)"
   ]
  },
  {
   "cell_type": "markdown",
   "metadata": {},
   "source": [
    "### 情感分析（-1 ~ 1：消极到积极）"
   ]
  },
  {
   "cell_type": "code",
   "execution_count": 7,
   "metadata": {},
   "outputs": [
    {
     "data": {
      "text/plain": [
       "-0.3068910837173462"
      ]
     },
     "execution_count": 7,
     "metadata": {},
     "output_type": "execute_result"
    }
   ],
   "source": [
    "HanLP.sentiment_analysis('西方紫苯滋养了女拳')"
   ]
  },
  {
   "cell_type": "markdown",
   "metadata": {},
   "source": [
    "### 直接使用HanLP的句子关键词提取和情感分析工具查看提取准确率"
   ]
  },
  {
   "cell_type": "code",
   "execution_count": null,
   "metadata": {},
   "outputs": [
    {
     "name": "stdout",
     "output_type": "stream",
     "text": [
      "测试关键词提取结果: ['HanLP的全部性能']\n",
      "测试情感分析结果: -0.6087199449539185\n"
     ]
    },
    {
     "name": "stderr",
     "output_type": "stream",
     "text": [
      "处理进度:  82%|████████▏ | 3276/4000 [2:58:03<39:14,  3.25s/条]  "
     ]
    },
    {
     "name": "stdout",
     "output_type": "stream",
     "text": [
      "关键词提取失败，content=你说得国是指大宋吗？😅就是被金干得皇上都没了的那个, 错误详情=HTTPSConnectionPool(host='www.hanlp.com', port=443): Max retries exceeded with url: /api/keyphrase_extraction (Caused by NewConnectionError('<urllib3.connection.HTTPSConnection object at 0x0000025995D2F780>: Failed to establish a new connection: [WinError 10060] 由于连接方在一段时间后没有正确答复或连接的主机没有反应，连接尝试失败。'))\n"
     ]
    },
    {
     "name": "stderr",
     "output_type": "stream",
     "text": [
      "处理进度: 100%|██████████| 4000/4000 [3:38:57<00:00,  3.28s/条]  "
     ]
    },
    {
     "name": "stdout",
     "output_type": "stream",
     "text": [
      "评论对象提取准确率: 25.77%\n",
      "情感分类准确率: 57.99999999999999%\n"
     ]
    },
    {
     "name": "stderr",
     "output_type": "stream",
     "text": [
      "\n"
     ]
    }
   ],
   "source": [
    "import json\n",
    "import time\n",
    "from tqdm import tqdm \n",
    "from hanlp_restful import HanLPClient\n",
    "\n",
    "# 初始化HanLP客户端（替换为您的auth信息）\n",
    "HanLP = HanLPClient('https://www.hanlp.com/api', auth='your_auth')\n",
    "\n",
    "def parse_output(output_str):\n",
    "    \"\"\"解析标注的output字符串，提取真实评论对象和情感标签\"\"\"\n",
    "    parts = output_str.replace(' [END]', '').split(' [SEP] ')\n",
    "    first_part = parts[0].split(' | ')\n",
    "    true_target = first_part[0].strip()\n",
    "    true_sentiment = first_part[-1].strip()\n",
    "    return true_target, true_sentiment\n",
    "\n",
    "def evaluate(data_path):\n",
    "    # 加载数据\n",
    "    with open(data_path, 'r', encoding='utf-8') as f:\n",
    "        data = json.load(f)\n",
    "    \n",
    "    target_correct = 0\n",
    "    sentiment_correct = 0\n",
    "    total = len(data)\n",
    "    \n",
    "    # 新增：初始化进度条（总长度为数据量）\n",
    "    pbar = tqdm(total=total, desc=\"处理进度\", unit=\"条\")\n",
    "    \n",
    "    for idx, sample in enumerate(data):\n",
    "        content = sample['content']\n",
    "        true_target, true_sentiment = parse_output(sample['output'])\n",
    "        \n",
    "        # 1. 评论对象预测（关键词提取）\n",
    "        try:\n",
    "            keywords = HanLP.keyphrase_extraction(content, topk=1)\n",
    "            if isinstance(keywords, dict):\n",
    "                keywords = list(keywords.keys())\n",
    "            pred_target = keywords[0] if keywords else 'NULL'\n",
    "        except Exception as e:\n",
    "            pred_target = 'ERROR'\n",
    "            print(f\"关键词提取失败，content={content}, 错误详情={str(e)}\")\n",
    "        \n",
    "        # 2. 情感预测\n",
    "        try:\n",
    "            sentiment_score = HanLP.sentiment_analysis(content)\n",
    "            pred_sentiment = 'hate' if sentiment_score < 0 else 'non-hate'\n",
    "        except Exception as e:\n",
    "            pred_sentiment = 'ERROR'\n",
    "            print(f\"情感分析失败，content={content}, 错误详情={str(e)}\")\n",
    "        \n",
    "        # 对比结果\n",
    "        if pred_target == true_target:\n",
    "            target_correct += 1\n",
    "        if pred_sentiment == true_sentiment:\n",
    "            sentiment_correct += 1\n",
    "        \n",
    "        # 频率控制\n",
    "        if idx < total - 1:\n",
    "            time.sleep(2.5)\n",
    "        \n",
    "        pbar.update(1)\n",
    "    \n",
    "    pbar.close()\n",
    "    \n",
    "    # 计算准确率\n",
    "    target_acc = target_correct / total if total > 0 else 0\n",
    "    sentiment_acc = sentiment_correct / total if total > 0 else 0\n",
    "    \n",
    "    return {\n",
    "        \"target_accuracy\": round(target_acc, 4),\n",
    "        \"sentiment_accuracy\": round(sentiment_acc, 4)\n",
    "    }\n",
    "\n",
    "if __name__ == \"__main__\":\n",
    "    # 测试HanLP基础功能\n",
    "    test_keywords = HanLP.keyphrase_extraction(\n",
    "        '自然语言处理是一门博大精深的学科，掌握理论才能发挥出HanLP的全部性能。', topk=1\n",
    "    )\n",
    "    if isinstance(test_keywords, dict):\n",
    "        test_keywords = list(test_keywords.keys())\n",
    "    print(\"测试关键词提取结果:\", test_keywords)\n",
    "    \n",
    "    print(\"测试情感分析结果:\", HanLP.sentiment_analysis('这明显是综艺节目啥的恶搞吧...'))\n",
    "    \n",
    "    # 评估整体准确率\n",
    "    result = evaluate('./data.json')\n",
    "    print(f\"评论对象提取准确率: {result['target_accuracy'] * 100}%\")\n",
    "    print(f\"情感分类准确率: {result['sentiment_accuracy'] * 100}%\")"
   ]
  }
 ],
 "metadata": {
  "kernelspec": {
   "display_name": "base",
   "language": "python",
   "name": "python3"
  },
  "language_info": {
   "codemirror_mode": {
    "name": "ipython",
    "version": 3
   },
   "file_extension": ".py",
   "mimetype": "text/x-python",
   "name": "python",
   "nbconvert_exporter": "python",
   "pygments_lexer": "ipython3",
   "version": "3.7.0"
  }
 },
 "nbformat": 4,
 "nbformat_minor": 2
}
